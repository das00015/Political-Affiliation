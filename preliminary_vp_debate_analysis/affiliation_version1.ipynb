{
 "cells": [
  {
   "cell_type": "code",
   "execution_count": 1,
   "id": "beautiful-moderator",
   "metadata": {},
   "outputs": [],
   "source": [
    "import os\n",
    "import glob\n",
    "import pandas as pd\n",
    "import time\n",
    "import matplotlib.pyplot as plt"
   ]
  },
  {
   "cell_type": "code",
   "execution_count": 2,
   "id": "third-double",
   "metadata": {},
   "outputs": [],
   "source": [
    "plt.rcParams['figure.figsize'] = [35, 15]"
   ]
  },
  {
   "cell_type": "code",
   "execution_count": 3,
   "id": "unlike-aberdeen",
   "metadata": {},
   "outputs": [],
   "source": [
    "pd.set_option('display.max_colwidth', None)"
   ]
  },
  {
   "cell_type": "code",
   "execution_count": 4,
   "id": "unique-definition",
   "metadata": {},
   "outputs": [],
   "source": [
    "data_path = \"/home/srivasta/shared/us_presidential_election_2020/SimpleExtractionFeatures/vp_debate_version2\"\n",
    "os.chdir(data_path)"
   ]
  },
  {
   "cell_type": "code",
   "execution_count": 7,
   "id": "current-album",
   "metadata": {},
   "outputs": [],
   "source": [
    "#specify datatypes so that datatype guessing isnt done (looks like he has mentioned default returned value as 'none' string everywhere)\n",
    "dtype={'UID':int,'Hashtags':object,'hashtag_content': object,'new_content':object,'Tweet Text':object}\n",
    "df = pd.read_csv('SED/hashtag_users.csv',dtype=dtype,lineterminator='\\n')"
   ]
  },
  {
   "cell_type": "code",
   "execution_count": 8,
   "id": "alternative-harvard",
   "metadata": {},
   "outputs": [
    {
     "data": {
      "text/html": [
       "<div>\n",
       "<style scoped>\n",
       "    .dataframe tbody tr th:only-of-type {\n",
       "        vertical-align: middle;\n",
       "    }\n",
       "\n",
       "    .dataframe tbody tr th {\n",
       "        vertical-align: top;\n",
       "    }\n",
       "\n",
       "    .dataframe thead th {\n",
       "        text-align: right;\n",
       "    }\n",
       "</style>\n",
       "<table border=\"1\" class=\"dataframe\">\n",
       "  <thead>\n",
       "    <tr style=\"text-align: right;\">\n",
       "      <th></th>\n",
       "      <th>Hashtags</th>\n",
       "      <th>UID</th>\n",
       "      <th>Tweet Text</th>\n",
       "      <th>new_content</th>\n",
       "      <th>hashtag_content</th>\n",
       "    </tr>\n",
       "  </thead>\n",
       "  <tbody>\n",
       "    <tr>\n",
       "      <th>0</th>\n",
       "      <td>[]</td>\n",
       "      <td>629751550</td>\n",
       "      <td>RT @OliviaTroye (2 of 3) This is the same group of people mocking @KamalaHarris for taking extra precautions for the VP debate. \"If Sen. Harris wants to use a fortress around herself, have at it,\" said @VPComDir Katie Miller, who had Covid in May...</td>\n",
       "      <td>[]</td>\n",
       "      <td>('empty', 0, [])</td>\n",
       "    </tr>\n",
       "    <tr>\n",
       "      <th>1</th>\n",
       "      <td>[]</td>\n",
       "      <td>1307358119782047745</td>\n",
       "      <td>@tinabelle77 @realDonaldTrump I’m sure he’s called his colleagues in person and wished them well I’m sure he’s maki… https://t.co/cd2N5B4PNF</td>\n",
       "      <td>[]</td>\n",
       "      <td>('empty', 0, [])</td>\n",
       "    </tr>\n",
       "    <tr>\n",
       "      <th>2</th>\n",
       "      <td>[]</td>\n",
       "      <td>1217552218116775941</td>\n",
       "      <td>RT @ThePubliusUSA Is Mike Pence trying to finagle his way out of the debate because he is terrified of being made minced-meat on live television by @KamalaHarris?</td>\n",
       "      <td>[]</td>\n",
       "      <td>('empty', 0, [])</td>\n",
       "    </tr>\n",
       "    <tr>\n",
       "      <th>3</th>\n",
       "      <td>[]</td>\n",
       "      <td>1207400068510371840</td>\n",
       "      <td>RT @StevenBeschloss Mike Pence, head of the coronavirus task force, refuses protective plexiglass for the VP debate. The infected Donald Trump refuses to clarify when he first tested positive. His regime refuses to allow the CDC to perform contact tracing. This isn’t politics. This is deadly sick.</td>\n",
       "      <td>[]</td>\n",
       "      <td>('empty', 0, [])</td>\n",
       "    </tr>\n",
       "    <tr>\n",
       "      <th>4</th>\n",
       "      <td>[]</td>\n",
       "      <td>36185294</td>\n",
       "      <td>RT @GeorgeTakei On a very serious note, Stephen Miller tested negative for five days before finally testing positive. This disease incubates. We have to keep Kamala Harris safe from Mike “Disease Gang” Pence.</td>\n",
       "      <td>[]</td>\n",
       "      <td>('empty', 0, [])</td>\n",
       "    </tr>\n",
       "  </tbody>\n",
       "</table>\n",
       "</div>"
      ],
      "text/plain": [
       "  Hashtags                  UID  \\\n",
       "0       []            629751550   \n",
       "1       []  1307358119782047745   \n",
       "2       []  1217552218116775941   \n",
       "3       []  1207400068510371840   \n",
       "4       []             36185294   \n",
       "\n",
       "                                                                                                                                                                                                                                                                                                   Tweet Text  \\\n",
       "0                                                   RT @OliviaTroye (2 of 3) This is the same group of people mocking @KamalaHarris for taking extra precautions for the VP debate. \"If Sen. Harris wants to use a fortress around herself, have at it,\" said @VPComDir Katie Miller, who had Covid in May...   \n",
       "1                                                                                                                                                                @tinabelle77 @realDonaldTrump I’m sure he’s called his colleagues in person and wished them well I’m sure he’s maki… https://t.co/cd2N5B4PNF   \n",
       "2                                                                                                                                          RT @ThePubliusUSA Is Mike Pence trying to finagle his way out of the debate because he is terrified of being made minced-meat on live television by @KamalaHarris?   \n",
       "3  RT @StevenBeschloss Mike Pence, head of the coronavirus task force, refuses protective plexiglass for the VP debate. The infected Donald Trump refuses to clarify when he first tested positive. His regime refuses to allow the CDC to perform contact tracing. This isn’t politics. This is deadly sick.   \n",
       "4                                                                                            RT @GeorgeTakei On a very serious note, Stephen Miller tested negative for five days before finally testing positive. This disease incubates. We have to keep Kamala Harris safe from Mike “Disease Gang” Pence.   \n",
       "\n",
       "  new_content   hashtag_content  \n",
       "0          []  ('empty', 0, [])  \n",
       "1          []  ('empty', 0, [])  \n",
       "2          []  ('empty', 0, [])  \n",
       "3          []  ('empty', 0, [])  \n",
       "4          []  ('empty', 0, [])  "
      ]
     },
     "execution_count": 8,
     "metadata": {},
     "output_type": "execute_result"
    }
   ],
   "source": [
    "df.head()"
   ]
  },
  {
   "cell_type": "code",
   "execution_count": 13,
   "id": "exempt-prison",
   "metadata": {},
   "outputs": [],
   "source": [
    "with open(\"SED/democrat_tags.txt\") as f:\n",
    "    content = f.readlines()\n",
    "# you may also want to remove whitespace characters like `\\n` at the end of each line\n",
    "dem_list = [x.strip() for x in content] \n",
    "\n",
    "with open(\"SED/republican_tags\") as f:\n",
    "    content = f.readlines()\n",
    "# you may also want to remove whitespace characters like `\\n` at the end of each line\n",
    "rep_list = [x.strip() for x in content] \n",
    "\n",
    "with open(\"SED/independent_tags.txt\") as f:\n",
    "    content = f.readlines()\n",
    "# you may also want to remove whitespace characters like `\\n` at the end of each line\n",
    "ind_list = [x.strip() for x in content] \n",
    "\n",
    "with open(\"SED/covid_tags.txt\") as f:\n",
    "    content = f.readlines()\n",
    "# you may also want to remove whitespace characters like `\\n` at the end of each line\n",
    "cov_list = [x.strip() for x in content] \n"
   ]
  },
  {
   "cell_type": "code",
   "execution_count": 15,
   "id": "false-christianity",
   "metadata": {},
   "outputs": [],
   "source": [
    "def set_flags(row):\n",
    "    flag_list =[0,0,0,0,0]\n",
    "    uid = row['UID']\n",
    "    tup = eval(row['hashtag_content'])\n",
    "    if tup[1]==0:\n",
    "        return \"no hashtag\"\n",
    "    else:\n",
    "        hashtag_list = tup[2]\n",
    "        for hashtag in hashtag_list:\n",
    "            if hashtag in dem_list:\n",
    "                flag_list[0]=1\n",
    "            elif hashtag in rep_list:\n",
    "                flag_list[1]=1\n",
    "            elif hashtag in ind_list:\n",
    "                flag_list[2]=1\n",
    "            elif hashtag in cov_list:\n",
    "                flag_list[3]=1\n",
    "            else:\n",
    "                #miscellaneous cases not caught by my categorization\n",
    "                flag_list[4]=1\n",
    "        return flag_list\n",
    "                \n",
    "                \n",
    "    "
   ]
  },
  {
   "cell_type": "code",
   "execution_count": 16,
   "id": "illegal-prophet",
   "metadata": {},
   "outputs": [],
   "source": [
    "df['flags']= df.apply(lambda x: set_flags(x),axis=1)"
   ]
  },
  {
   "cell_type": "code",
   "execution_count": 18,
   "id": "impaired-certification",
   "metadata": {},
   "outputs": [
    {
     "data": {
      "text/plain": [
       "(7641457, 6)"
      ]
     },
     "execution_count": 18,
     "metadata": {},
     "output_type": "execute_result"
    }
   ],
   "source": [
    "df.shape"
   ]
  },
  {
   "cell_type": "code",
   "execution_count": 17,
   "id": "serious-trail",
   "metadata": {},
   "outputs": [
    {
     "ename": "TypeError",
     "evalue": "unhashable type: 'list'",
     "output_type": "error",
     "traceback": [
      "\u001b[0;31m---------------------------------------------------------------------------\u001b[0m",
      "\u001b[0;31mTypeError\u001b[0m                                 Traceback (most recent call last)",
      "\u001b[0;32mpandas/_libs/hashtable_class_helper.pxi\u001b[0m in \u001b[0;36mpandas._libs.hashtable.PyObjectHashTable.map_locations\u001b[0;34m()\u001b[0m\n",
      "\u001b[0;31mTypeError\u001b[0m: unhashable type: 'list'"
     ]
    },
    {
     "name": "stderr",
     "output_type": "stream",
     "text": [
      "Exception ignored in: 'pandas._libs.index.IndexEngine._call_map_locations'\n",
      "Traceback (most recent call last):\n",
      "  File \"pandas/_libs/hashtable_class_helper.pxi\", line 5231, in pandas._libs.hashtable.PyObjectHashTable.map_locations\n",
      "TypeError: unhashable type: 'list'\n"
     ]
    },
    {
     "data": {
      "text/plain": [
       "no hashtag         6302242\n",
       "[0, 0, 0, 0, 1]    1237715\n",
       "[1, 0, 0, 0, 1]      36856\n",
       "[0, 1, 0, 0, 1]      14625\n",
       "[1, 0, 0, 0, 0]      12307\n",
       "[0, 0, 1, 0, 1]      11002\n",
       "[0, 1, 0, 0, 0]      10122\n",
       "[0, 0, 0, 1, 1]       6313\n",
       "[0, 0, 0, 1, 0]       2962\n",
       "[0, 0, 1, 0, 0]       1685\n",
       "[1, 0, 1, 0, 1]       1397\n",
       "[1, 1, 0, 0, 1]       1253\n",
       "[0, 1, 1, 0, 1]        811\n",
       "[0, 1, 0, 1, 1]        618\n",
       "[1, 1, 0, 0, 0]        497\n",
       "[1, 1, 0, 1, 1]        348\n",
       "[0, 1, 0, 1, 0]        166\n",
       "[1, 1, 1, 0, 1]        139\n",
       "[1, 0, 0, 1, 1]        119\n",
       "[0, 1, 1, 0, 0]        113\n",
       "[1, 0, 1, 0, 0]         60\n",
       "[0, 1, 1, 1, 1]         30\n",
       "[0, 0, 1, 1, 1]         28\n",
       "[1, 0, 0, 1, 0]         23\n",
       "[1, 1, 1, 0, 0]         10\n",
       "[0, 1, 1, 1, 0]          5\n",
       "[1, 0, 1, 1, 1]          5\n",
       "[1, 1, 0, 1, 0]          3\n",
       "[0, 0, 1, 1, 0]          3\n",
       "Name: flags, dtype: int64"
      ]
     },
     "execution_count": 17,
     "metadata": {},
     "output_type": "execute_result"
    }
   ],
   "source": [
    "df['flags'].value_counts()"
   ]
  },
  {
   "cell_type": "code",
   "execution_count": 29,
   "id": "differential-bidding",
   "metadata": {},
   "outputs": [],
   "source": [
    "import json\n",
    "def get_party_affiliation(row):\n",
    "    if row == \"no hashtag\":\n",
    "        return \"no hashtag\"\n",
    "    else:\n",
    "        #print(row)\n",
    "        #flag_list = json.loads(row)\n",
    "        flag_list = row\n",
    "        if flag_list[0]==1 and flag_list[1]==1:\n",
    "            return \"both\"\n",
    "        elif flag_list[0]==1 and flag_list[1]==0:\n",
    "            return \"democrat\"\n",
    "        elif flag_list[0]==0 and flag_list[1]==1:\n",
    "            return \"republican\"\n",
    "        else:\n",
    "            return \"none\"\n",
    "        "
   ]
  },
  {
   "cell_type": "code",
   "execution_count": 30,
   "id": "consistent-momentum",
   "metadata": {},
   "outputs": [],
   "source": [
    "df['party_affiliation']= df.apply(lambda x: get_party_affiliation(x['flags']),axis=1)"
   ]
  },
  {
   "cell_type": "code",
   "execution_count": 31,
   "id": "decent-toddler",
   "metadata": {},
   "outputs": [
    {
     "data": {
      "text/plain": [
       "no hashtag    6302242\n",
       "none          1259708\n",
       "democrat        50767\n",
       "republican      26490\n",
       "both             2250\n",
       "Name: party_affiliation, dtype: int64"
      ]
     },
     "execution_count": 31,
     "metadata": {},
     "output_type": "execute_result"
    }
   ],
   "source": [
    "df['party_affiliation'].value_counts()"
   ]
  },
  {
   "cell_type": "code",
   "execution_count": null,
   "id": "liquid-development",
   "metadata": {},
   "outputs": [],
   "source": []
  }
 ],
 "metadata": {
  "kernelspec": {
   "display_name": "Poldebate",
   "language": "python",
   "name": "poldebate"
  },
  "language_info": {
   "codemirror_mode": {
    "name": "ipython",
    "version": 3
   },
   "file_extension": ".py",
   "mimetype": "text/x-python",
   "name": "python",
   "nbconvert_exporter": "python",
   "pygments_lexer": "ipython3",
   "version": "3.7.10"
  }
 },
 "nbformat": 4,
 "nbformat_minor": 5
}
