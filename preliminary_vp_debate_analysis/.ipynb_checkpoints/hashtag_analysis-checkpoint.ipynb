{
 "cells": [
  {
   "cell_type": "code",
   "execution_count": 1,
   "id": "requested-maria",
   "metadata": {},
   "outputs": [],
   "source": [
    "import os\n",
    "import glob\n",
    "import pandas as pd\n",
    "import time\n",
    "import matplotlib.pyplot as plt"
   ]
  },
  {
   "cell_type": "code",
   "execution_count": 2,
   "id": "fabulous-childhood",
   "metadata": {},
   "outputs": [],
   "source": [
    "data_path = \"/home/srivasta/shared/us_presidential_election_2020/SimpleExtractionFeatures/vp_debate_version2\"\n",
    "os.chdir(data_path)"
   ]
  },
  {
   "cell_type": "code",
   "execution_count": 4,
   "id": "public-burlington",
   "metadata": {},
   "outputs": [],
   "source": [
    "#specify datatypes so that datatype guessing isnt done (looks like he has mentioned default returned value as 'none' string everywhere)\n",
    "dtype={'hashtag_content': object}\n",
    "df = pd.read_csv('SED/hashtag_content.csv',dtype=dtype,lineterminator='\\n')"
   ]
  },
  {
   "cell_type": "code",
   "execution_count": 5,
   "id": "recognized-investing",
   "metadata": {},
   "outputs": [
    {
     "data": {
      "text/html": [
       "<div>\n",
       "<style scoped>\n",
       "    .dataframe tbody tr th:only-of-type {\n",
       "        vertical-align: middle;\n",
       "    }\n",
       "\n",
       "    .dataframe tbody tr th {\n",
       "        vertical-align: top;\n",
       "    }\n",
       "\n",
       "    .dataframe thead th {\n",
       "        text-align: right;\n",
       "    }\n",
       "</style>\n",
       "<table border=\"1\" class=\"dataframe\">\n",
       "  <thead>\n",
       "    <tr style=\"text-align: right;\">\n",
       "      <th></th>\n",
       "      <th>hashtag_content</th>\n",
       "    </tr>\n",
       "  </thead>\n",
       "  <tbody>\n",
       "    <tr>\n",
       "      <th>0</th>\n",
       "      <td>('empty', 0, [])</td>\n",
       "    </tr>\n",
       "    <tr>\n",
       "      <th>1</th>\n",
       "      <td>('empty', 0, [])</td>\n",
       "    </tr>\n",
       "    <tr>\n",
       "      <th>2</th>\n",
       "      <td>('empty', 0, [])</td>\n",
       "    </tr>\n",
       "    <tr>\n",
       "      <th>3</th>\n",
       "      <td>('empty', 0, [])</td>\n",
       "    </tr>\n",
       "    <tr>\n",
       "      <th>4</th>\n",
       "      <td>('empty', 0, [])</td>\n",
       "    </tr>\n",
       "  </tbody>\n",
       "</table>\n",
       "</div>"
      ],
      "text/plain": [
       "    hashtag_content\n",
       "0  ('empty', 0, [])\n",
       "1  ('empty', 0, [])\n",
       "2  ('empty', 0, [])\n",
       "3  ('empty', 0, [])\n",
       "4  ('empty', 0, [])"
      ]
     },
     "execution_count": 5,
     "metadata": {},
     "output_type": "execute_result"
    }
   ],
   "source": [
    "df.head()"
   ]
  },
  {
   "cell_type": "code",
   "execution_count": 8,
   "id": "hungry-distinction",
   "metadata": {},
   "outputs": [],
   "source": [
    "hashtag_dict = {}\n",
    "\n",
    "def get_hashtags(df):\n",
    "    for index, row in df.iterrows():\n",
    "        tup = eval(row['hashtag_content'])\n",
    "        hashtags = tup[2] \n",
    "        for hasht in hashtags:\n",
    "            if hasht in hashtag_dict:\n",
    "                print(hashtags)\n",
    "                break\n",
    "                hashtag_dict[hasht]+=1\n",
    "            else:\n",
    "                hashtag_dict[hasht]=1\n",
    "    print(hashtag_dict)\n",
    "    "
   ]
  },
  {
   "cell_type": "code",
   "execution_count": 9,
   "id": "absolute-chicago",
   "metadata": {},
   "outputs": [
    {
     "name": "stdout",
     "output_type": "stream",
     "text": [
      "[]\n",
      "{}\n"
     ]
    }
   ],
   "source": [
    "get_hashtags(df)"
   ]
  },
  {
   "cell_type": "code",
   "execution_count": null,
   "id": "fiscal-samba",
   "metadata": {},
   "outputs": [],
   "source": []
  }
 ],
 "metadata": {
  "kernelspec": {
   "display_name": "Poldebate",
   "language": "python",
   "name": "poldebate"
  },
  "language_info": {
   "codemirror_mode": {
    "name": "ipython",
    "version": 3
   },
   "file_extension": ".py",
   "mimetype": "text/x-python",
   "name": "python",
   "nbconvert_exporter": "python",
   "pygments_lexer": "ipython3",
   "version": "3.7.10"
  }
 },
 "nbformat": 4,
 "nbformat_minor": 5
}
