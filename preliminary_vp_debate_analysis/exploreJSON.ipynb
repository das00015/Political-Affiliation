{
 "cells": [
  {
   "cell_type": "code",
   "execution_count": 1,
   "id": "bound-auditor",
   "metadata": {},
   "outputs": [],
   "source": [
    "import json\n",
    "import os\n",
    "import numpy as np"
   ]
  },
  {
   "cell_type": "code",
   "execution_count": 2,
   "id": "extreme-receiver",
   "metadata": {},
   "outputs": [],
   "source": [
    "tweets = []\n",
    "for line in open('201021220244_third_debate_20201022_vol-10.json', 'r'):\n",
    "    tweets.append(json.loads(line))"
   ]
  },
  {
   "cell_type": "code",
   "execution_count": 3,
   "id": "protecting-claim",
   "metadata": {},
   "outputs": [
    {
     "data": {
      "text/plain": [
       "100000"
      ]
     },
     "execution_count": 3,
     "metadata": {},
     "output_type": "execute_result"
    }
   ],
   "source": [
    "len(tweets)"
   ]
  },
  {
   "cell_type": "code",
   "execution_count": 4,
   "id": "opposed-avatar",
   "metadata": {},
   "outputs": [
    {
     "data": {
      "text/plain": [
       "{'created_at': 'Thu Oct 22 10:07:52 +0000 2020',\n",
       " 'id': 1319218907081809922,\n",
       " 'id_str': '1319218907081809922',\n",
       " 'text': 'RT @EdanClay: .@DNI_Ratcliffe is a traitor who has sold out the United States for some sick cultist obedience to @realDonaldTrump.\\nEvery pa…',\n",
       " 'source': '<a href=\"http://twitter.com/download/iphone\" rel=\"nofollow\">Twitter for iPhone</a>',\n",
       " 'truncated': False,\n",
       " 'in_reply_to_status_id': None,\n",
       " 'in_reply_to_status_id_str': None,\n",
       " 'in_reply_to_user_id': None,\n",
       " 'in_reply_to_user_id_str': None,\n",
       " 'in_reply_to_screen_name': None,\n",
       " 'user': {'id': 4311881121,\n",
       "  'id_str': '4311881121',\n",
       "  'name': 'Tita Oli',\n",
       "  'screen_name': 'Oli1Tita',\n",
       "  'location': None,\n",
       "  'url': None,\n",
       "  'description': None,\n",
       "  'translator_type': 'none',\n",
       "  'protected': False,\n",
       "  'verified': False,\n",
       "  'followers_count': 195,\n",
       "  'friends_count': 446,\n",
       "  'listed_count': 6,\n",
       "  'favourites_count': 15863,\n",
       "  'statuses_count': 106477,\n",
       "  'created_at': 'Sat Nov 28 23:16:15 +0000 2015',\n",
       "  'utc_offset': None,\n",
       "  'time_zone': None,\n",
       "  'geo_enabled': True,\n",
       "  'lang': None,\n",
       "  'contributors_enabled': False,\n",
       "  'is_translator': False,\n",
       "  'profile_background_color': 'C0DEED',\n",
       "  'profile_background_image_url': 'http://abs.twimg.com/images/themes/theme1/bg.png',\n",
       "  'profile_background_image_url_https': 'https://abs.twimg.com/images/themes/theme1/bg.png',\n",
       "  'profile_background_tile': False,\n",
       "  'profile_link_color': '1DA1F2',\n",
       "  'profile_sidebar_border_color': 'C0DEED',\n",
       "  'profile_sidebar_fill_color': 'DDEEF6',\n",
       "  'profile_text_color': '333333',\n",
       "  'profile_use_background_image': True,\n",
       "  'profile_image_url': 'http://pbs.twimg.com/profile_images/965971913221791744/BtOuCX5u_normal.jpg',\n",
       "  'profile_image_url_https': 'https://pbs.twimg.com/profile_images/965971913221791744/BtOuCX5u_normal.jpg',\n",
       "  'profile_banner_url': 'https://pbs.twimg.com/profile_banners/4311881121/1519140628',\n",
       "  'default_profile': True,\n",
       "  'default_profile_image': False,\n",
       "  'following': None,\n",
       "  'follow_request_sent': None,\n",
       "  'notifications': None},\n",
       " 'geo': None,\n",
       " 'coordinates': None,\n",
       " 'place': None,\n",
       " 'contributors': None,\n",
       " 'retweeted_status': {'created_at': 'Thu Oct 22 09:11:54 +0000 2020',\n",
       "  'id': 1319204825863720960,\n",
       "  'id_str': '1319204825863720960',\n",
       "  'text': '.@DNI_Ratcliffe is a traitor who has sold out the United States for some sick cultist obedience to @realDonaldTrump… https://t.co/shHcXVttTO',\n",
       "  'source': '<a href=\"https://mobile.twitter.com\" rel=\"nofollow\">Twitter Web App</a>',\n",
       "  'truncated': True,\n",
       "  'in_reply_to_status_id': None,\n",
       "  'in_reply_to_status_id_str': None,\n",
       "  'in_reply_to_user_id': None,\n",
       "  'in_reply_to_user_id_str': None,\n",
       "  'in_reply_to_screen_name': None,\n",
       "  'user': {'id': 793902637733146624,\n",
       "   'id_str': '793902637733146624',\n",
       "   'name': 'Edan Clay \\u1f1fA\\u1f1f8',\n",
       "   'screen_name': 'EdanClay',\n",
       "   'location': 'California, USA',\n",
       "   'url': 'https://itunes.apple.com/us/album/mad-love/1449233927',\n",
       "   'description': '#HealthCareIsARight - Troublemaker. Pronounced AIDEN. Here to bring down the #TrumpCrimeFamily. #TheResistance #TrumpVirus #BidenHarris2020 #resist #BLM',\n",
       "   'translator_type': 'none',\n",
       "   'protected': False,\n",
       "   'verified': False,\n",
       "   'followers_count': 74388,\n",
       "   'friends_count': 43137,\n",
       "   'listed_count': 238,\n",
       "   'favourites_count': 102043,\n",
       "   'statuses_count': 56096,\n",
       "   'created_at': 'Wed Nov 02 19:48:33 +0000 2016',\n",
       "   'utc_offset': None,\n",
       "   'time_zone': None,\n",
       "   'geo_enabled': False,\n",
       "   'lang': None,\n",
       "   'contributors_enabled': False,\n",
       "   'is_translator': False,\n",
       "   'profile_background_color': '000000',\n",
       "   'profile_background_image_url': 'http://abs.twimg.com/images/themes/theme1/bg.png',\n",
       "   'profile_background_image_url_https': 'https://abs.twimg.com/images/themes/theme1/bg.png',\n",
       "   'profile_background_tile': False,\n",
       "   'profile_link_color': '000000',\n",
       "   'profile_sidebar_border_color': '000000',\n",
       "   'profile_sidebar_fill_color': '000000',\n",
       "   'profile_text_color': '000000',\n",
       "   'profile_use_background_image': False,\n",
       "   'profile_image_url': 'http://pbs.twimg.com/profile_images/1272445186430234624/CLDZDa17_normal.jpg',\n",
       "   'profile_image_url_https': 'https://pbs.twimg.com/profile_images/1272445186430234624/CLDZDa17_normal.jpg',\n",
       "   'profile_banner_url': 'https://pbs.twimg.com/profile_banners/793902637733146624/1595291328',\n",
       "   'default_profile': False,\n",
       "   'default_profile_image': False,\n",
       "   'following': None,\n",
       "   'follow_request_sent': None,\n",
       "   'notifications': None},\n",
       "  'geo': None,\n",
       "  'coordinates': None,\n",
       "  'place': None,\n",
       "  'contributors': None,\n",
       "  'is_quote_status': False,\n",
       "  'extended_tweet': {'full_text': \".@DNI_Ratcliffe is a traitor who has sold out the United States for some sick cultist obedience to @realDonaldTrump.\\nEvery patriotic American with a brain sees it... I'm guessing prison time is in his future.\",\n",
       "   'display_text_range': [0, 208],\n",
       "   'entities': {'hashtags': [],\n",
       "    'urls': [],\n",
       "    'user_mentions': [{'screen_name': 'DNI_Ratcliffe',\n",
       "      'name': 'John Ratcliffe',\n",
       "      'id': 2847221717,\n",
       "      'id_str': '2847221717',\n",
       "      'indices': [1, 15]},\n",
       "     {'screen_name': 'realDonaldTrump',\n",
       "      'name': 'Donald J. Trump',\n",
       "      'id': 25073877,\n",
       "      'id_str': '25073877',\n",
       "      'indices': [99, 115]}],\n",
       "    'symbols': []}},\n",
       "  'quote_count': 1,\n",
       "  'reply_count': 1,\n",
       "  'retweet_count': 39,\n",
       "  'favorite_count': 113,\n",
       "  'entities': {'hashtags': [],\n",
       "   'urls': [{'url': 'https://t.co/shHcXVttTO',\n",
       "     'expanded_url': 'https://twitter.com/i/web/status/1319204825863720960',\n",
       "     'display_url': 'twitter.com/i/web/status/1…',\n",
       "     'indices': [117, 140]}],\n",
       "   'user_mentions': [{'screen_name': 'DNI_Ratcliffe',\n",
       "     'name': 'John Ratcliffe',\n",
       "     'id': 2847221717,\n",
       "     'id_str': '2847221717',\n",
       "     'indices': [1, 15]},\n",
       "    {'screen_name': 'realDonaldTrump',\n",
       "     'name': 'Donald J. Trump',\n",
       "     'id': 25073877,\n",
       "     'id_str': '25073877',\n",
       "     'indices': [99, 115]}],\n",
       "   'symbols': []},\n",
       "  'favorited': False,\n",
       "  'retweeted': False,\n",
       "  'filter_level': 'low',\n",
       "  'lang': 'en'},\n",
       " 'is_quote_status': False,\n",
       " 'quote_count': 0,\n",
       " 'reply_count': 0,\n",
       " 'retweet_count': 0,\n",
       " 'favorite_count': 0,\n",
       " 'entities': {'hashtags': [],\n",
       "  'urls': [],\n",
       "  'user_mentions': [{'screen_name': 'EdanClay',\n",
       "    'name': 'Edan Clay \\u1f1fA\\u1f1f8',\n",
       "    'id': 793902637733146624,\n",
       "    'id_str': '793902637733146624',\n",
       "    'indices': [3, 12]},\n",
       "   {'screen_name': 'DNI_Ratcliffe',\n",
       "    'name': 'John Ratcliffe',\n",
       "    'id': 2847221717,\n",
       "    'id_str': '2847221717',\n",
       "    'indices': [15, 29]},\n",
       "   {'screen_name': 'realDonaldTrump',\n",
       "    'name': 'Donald J. Trump',\n",
       "    'id': 25073877,\n",
       "    'id_str': '25073877',\n",
       "    'indices': [113, 129]}],\n",
       "  'symbols': []},\n",
       " 'favorited': False,\n",
       " 'retweeted': False,\n",
       " 'filter_level': 'low',\n",
       " 'lang': 'en',\n",
       " 'timestamp_ms': '1603361272007',\n",
       " 'aidr': {'doctype': 'twitter',\n",
       "  'crisis_code': '201021220244_third_debate',\n",
       "  'crisis_name': 'Third_Debate'}}"
      ]
     },
     "execution_count": 4,
     "metadata": {},
     "output_type": "execute_result"
    }
   ],
   "source": [
    "tweets[0]"
   ]
  },
  {
   "cell_type": "code",
   "execution_count": 5,
   "id": "coastal-china",
   "metadata": {},
   "outputs": [
    {
     "data": {
      "text/plain": [
       "{'id': 4311881121,\n",
       " 'id_str': '4311881121',\n",
       " 'name': 'Tita Oli',\n",
       " 'screen_name': 'Oli1Tita',\n",
       " 'location': None,\n",
       " 'url': None,\n",
       " 'description': None,\n",
       " 'translator_type': 'none',\n",
       " 'protected': False,\n",
       " 'verified': False,\n",
       " 'followers_count': 195,\n",
       " 'friends_count': 446,\n",
       " 'listed_count': 6,\n",
       " 'favourites_count': 15863,\n",
       " 'statuses_count': 106477,\n",
       " 'created_at': 'Sat Nov 28 23:16:15 +0000 2015',\n",
       " 'utc_offset': None,\n",
       " 'time_zone': None,\n",
       " 'geo_enabled': True,\n",
       " 'lang': None,\n",
       " 'contributors_enabled': False,\n",
       " 'is_translator': False,\n",
       " 'profile_background_color': 'C0DEED',\n",
       " 'profile_background_image_url': 'http://abs.twimg.com/images/themes/theme1/bg.png',\n",
       " 'profile_background_image_url_https': 'https://abs.twimg.com/images/themes/theme1/bg.png',\n",
       " 'profile_background_tile': False,\n",
       " 'profile_link_color': '1DA1F2',\n",
       " 'profile_sidebar_border_color': 'C0DEED',\n",
       " 'profile_sidebar_fill_color': 'DDEEF6',\n",
       " 'profile_text_color': '333333',\n",
       " 'profile_use_background_image': True,\n",
       " 'profile_image_url': 'http://pbs.twimg.com/profile_images/965971913221791744/BtOuCX5u_normal.jpg',\n",
       " 'profile_image_url_https': 'https://pbs.twimg.com/profile_images/965971913221791744/BtOuCX5u_normal.jpg',\n",
       " 'profile_banner_url': 'https://pbs.twimg.com/profile_banners/4311881121/1519140628',\n",
       " 'default_profile': True,\n",
       " 'default_profile_image': False,\n",
       " 'following': None,\n",
       " 'follow_request_sent': None,\n",
       " 'notifications': None}"
      ]
     },
     "execution_count": 5,
     "metadata": {},
     "output_type": "execute_result"
    }
   ],
   "source": [
    "tweets[0][\"user\"]"
   ]
  },
  {
   "cell_type": "code",
   "execution_count": 6,
   "id": "amino-turner",
   "metadata": {},
   "outputs": [],
   "source": [
    "sample = tweets[0]"
   ]
  },
  {
   "cell_type": "code",
   "execution_count": 7,
   "id": "laden-federal",
   "metadata": {},
   "outputs": [
    {
     "data": {
      "text/plain": [
       "dict_keys(['created_at', 'id', 'id_str', 'text', 'source', 'truncated', 'in_reply_to_status_id', 'in_reply_to_status_id_str', 'in_reply_to_user_id', 'in_reply_to_user_id_str', 'in_reply_to_screen_name', 'user', 'geo', 'coordinates', 'place', 'contributors', 'retweeted_status', 'is_quote_status', 'quote_count', 'reply_count', 'retweet_count', 'favorite_count', 'entities', 'favorited', 'retweeted', 'filter_level', 'lang', 'timestamp_ms', 'aidr'])"
      ]
     },
     "execution_count": 7,
     "metadata": {},
     "output_type": "execute_result"
    }
   ],
   "source": [
    "sample.keys()"
   ]
  },
  {
   "cell_type": "code",
   "execution_count": null,
   "id": "random-female",
   "metadata": {},
   "outputs": [],
   "source": []
  }
 ],
 "metadata": {
  "kernelspec": {
   "display_name": "Poldebate",
   "language": "python",
   "name": "poldebate"
  },
  "language_info": {
   "codemirror_mode": {
    "name": "ipython",
    "version": 3
   },
   "file_extension": ".py",
   "mimetype": "text/x-python",
   "name": "python",
   "nbconvert_exporter": "python",
   "pygments_lexer": "ipython3",
   "version": "3.7.10"
  }
 },
 "nbformat": 4,
 "nbformat_minor": 5
}
