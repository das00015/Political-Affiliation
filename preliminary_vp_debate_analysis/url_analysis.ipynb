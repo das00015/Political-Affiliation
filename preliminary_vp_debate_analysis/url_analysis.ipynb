{
 "cells": [
  {
   "cell_type": "code",
   "execution_count": 8,
   "id": "seasonal-surgeon",
   "metadata": {},
   "outputs": [],
   "source": [
    "import os\n",
    "import glob\n",
    "import pandas as pd\n",
    "import time\n",
    "import matplotlib.pyplot as plt"
   ]
  },
  {
   "cell_type": "code",
   "execution_count": 9,
   "id": "married-deposit",
   "metadata": {},
   "outputs": [],
   "source": [
    "plt.rcParams['figure.figsize'] = [35, 15]"
   ]
  },
  {
   "cell_type": "code",
   "execution_count": 10,
   "id": "progressive-there",
   "metadata": {},
   "outputs": [],
   "source": [
    "pd.set_option('display.max_colwidth', None)"
   ]
  },
  {
   "cell_type": "code",
   "execution_count": 11,
   "id": "smoking-symphony",
   "metadata": {},
   "outputs": [],
   "source": [
    "data_path = \"/home/srivasta/shared/us_presidential_election_2020/SimpleExtractionFeatures/vp_debate_version2\"\n",
    "os.chdir(data_path)"
   ]
  },
  {
   "cell_type": "code",
   "execution_count": 12,
   "id": "unique-termination",
   "metadata": {},
   "outputs": [],
   "source": [
    "#specify datatypes so that datatype guessing isnt done (looks like he has mentioned default returned value as 'none' string everywhere)\n",
    "dtype={'No URLs':int,'url_content': object}\n",
    "df = pd.read_csv('SED/url_content.csv',dtype=dtype,lineterminator='\\n')"
   ]
  },
  {
   "cell_type": "code",
   "execution_count": 13,
   "id": "rocky-cheese",
   "metadata": {},
   "outputs": [
    {
     "data": {
      "text/html": [
       "<div>\n",
       "<style scoped>\n",
       "    .dataframe tbody tr th:only-of-type {\n",
       "        vertical-align: middle;\n",
       "    }\n",
       "\n",
       "    .dataframe tbody tr th {\n",
       "        vertical-align: top;\n",
       "    }\n",
       "\n",
       "    .dataframe thead th {\n",
       "        text-align: right;\n",
       "    }\n",
       "</style>\n",
       "<table border=\"1\" class=\"dataframe\">\n",
       "  <thead>\n",
       "    <tr style=\"text-align: right;\">\n",
       "      <th></th>\n",
       "      <th>No URLs</th>\n",
       "      <th>url_content</th>\n",
       "    </tr>\n",
       "  </thead>\n",
       "  <tbody>\n",
       "    <tr>\n",
       "      <th>0</th>\n",
       "      <td>1</td>\n",
       "      <td>(1, ['https://t.co/cd2N5B4PNF'])</td>\n",
       "    </tr>\n",
       "    <tr>\n",
       "      <th>1</th>\n",
       "      <td>1</td>\n",
       "      <td>(1, ['https://t.co/Adbd0mBMr3'])</td>\n",
       "    </tr>\n",
       "    <tr>\n",
       "      <th>2</th>\n",
       "      <td>1</td>\n",
       "      <td>(1, ['https://t.co/OyIxjqXIbG'])</td>\n",
       "    </tr>\n",
       "    <tr>\n",
       "      <th>3</th>\n",
       "      <td>1</td>\n",
       "      <td>(1, ['https://t.co/a0Ev7KYs7c'])</td>\n",
       "    </tr>\n",
       "    <tr>\n",
       "      <th>4</th>\n",
       "      <td>1</td>\n",
       "      <td>(1, ['https://t.co/cL0aPb7noT'])</td>\n",
       "    </tr>\n",
       "  </tbody>\n",
       "</table>\n",
       "</div>"
      ],
      "text/plain": [
       "   No URLs                       url_content\n",
       "0        1  (1, ['https://t.co/cd2N5B4PNF'])\n",
       "1        1  (1, ['https://t.co/Adbd0mBMr3'])\n",
       "2        1  (1, ['https://t.co/OyIxjqXIbG'])\n",
       "3        1  (1, ['https://t.co/a0Ev7KYs7c'])\n",
       "4        1  (1, ['https://t.co/cL0aPb7noT'])"
      ]
     },
     "execution_count": 13,
     "metadata": {},
     "output_type": "execute_result"
    }
   ],
   "source": [
    "df.head()"
   ]
  },
  {
   "cell_type": "code",
   "execution_count": 15,
   "id": "varied-netherlands",
   "metadata": {},
   "outputs": [
    {
     "data": {
      "text/html": [
       "<div>\n",
       "<style scoped>\n",
       "    .dataframe tbody tr th:only-of-type {\n",
       "        vertical-align: middle;\n",
       "    }\n",
       "\n",
       "    .dataframe tbody tr th {\n",
       "        vertical-align: top;\n",
       "    }\n",
       "\n",
       "    .dataframe thead th {\n",
       "        text-align: right;\n",
       "    }\n",
       "</style>\n",
       "<table border=\"1\" class=\"dataframe\">\n",
       "  <thead>\n",
       "    <tr style=\"text-align: right;\">\n",
       "      <th></th>\n",
       "      <th>url_content</th>\n",
       "    </tr>\n",
       "  </thead>\n",
       "  <tbody>\n",
       "    <tr>\n",
       "      <th>0</th>\n",
       "      <td>(1, ['https://t.co/cd2N5B4PNF'])</td>\n",
       "    </tr>\n",
       "    <tr>\n",
       "      <th>1</th>\n",
       "      <td>(1, ['https://t.co/Adbd0mBMr3'])</td>\n",
       "    </tr>\n",
       "  </tbody>\n",
       "</table>\n",
       "</div>"
      ],
      "text/plain": [
       "                        url_content\n",
       "0  (1, ['https://t.co/cd2N5B4PNF'])\n",
       "1  (1, ['https://t.co/Adbd0mBMr3'])"
      ]
     },
     "execution_count": 15,
     "metadata": {},
     "output_type": "execute_result"
    }
   ],
   "source": [
    "df.loc[[0,1],['url_content']]"
   ]
  },
  {
   "cell_type": "code",
   "execution_count": 16,
   "id": "formal-remainder",
   "metadata": {},
   "outputs": [],
   "source": [
    "url_dict = {}\n",
    "\n",
    "def get_urls(df):\n",
    "    for index, row in df.iterrows():\n",
    "        tup = eval(row['url_content'])\n",
    "        urls = tup[1] \n",
    "        for mt in urls:\n",
    "            if mt in url_dict:\n",
    "                url_dict[mt]+=1\n",
    "            else:\n",
    "                url_dict[mt]=1\n",
    "  "
   ]
  },
  {
   "cell_type": "code",
   "execution_count": 17,
   "id": "contained-topic",
   "metadata": {},
   "outputs": [],
   "source": [
    "get_urls(df)"
   ]
  },
  {
   "cell_type": "code",
   "execution_count": 18,
   "id": "vocational-classic",
   "metadata": {},
   "outputs": [],
   "source": [
    "from operator import itemgetter\n",
    "def print_top_n_values(N):\n",
    "    res = dict(sorted(url_dict.items(), key = itemgetter(1), reverse = True)[:N])\n",
    "    return res\n"
   ]
  },
  {
   "cell_type": "code",
   "execution_count": 19,
   "id": "communist-notion",
   "metadata": {},
   "outputs": [
    {
     "name": "stdout",
     "output_type": "stream",
     "text": [
      "Top 10 URL values:  {'https://t.co/0Qh13Ehvs8': 282, 'https://t.co/7EgK5L4n9e': 262, 'https://t.co/xtLkaop3lY': 239, 'https://t.co/0wGfJwRxeC': 202, 'https://t.co/j3zfrVLTqU': 170, 'https://t.co/mFCvdB61zH': 168, 'https://t.co/b6Vb6fBblo': 151, 'https://t.co/KPfldydS3s': 143, 'https://t.co/5fk4VembWh': 103, 'https://t.co/BgTIUySafZ': 102, 'https://t.co/nKKyuVuAwY': 99, 'https://t.co/JIJDfzh9DL': 95, 'https://t.co/trvxtK6QEP': 93, 'https://t.co/LkegAQyjVF': 91, 'https://t.co/03D0bZFZ3c': 86, 'https://t.co/6mlIrHtD5T': 85, 'https://t.co/c31y2kSG7D': 81, 'https://t.co/hXnJvnVw8h': 72, 'https://t.co/ngcmEWCOCd': 69, 'https://t.co/3Ng9eBMwuG': 68, 'https://t.co/lCAsOuPkiO': 64, 'https://t.co/wSFl2jHhsr': 62, 'https://t.co/4iGvQ1N5e7': 60, 'https://t.co/Sr2cPZj7q9': 58, 'https://t.co/k8fXQz4Nwz': 57, 'https://t.co/UQmxFR8WT8': 55, 'https://t.co/adbxXmGdSv': 51, 'https://t.co/iHhWdhwplT': 48, 'https://t.co/b1tAMxJcb6': 46, 'https://t.co/UokBHsdq54': 46}\n"
     ]
    }
   ],
   "source": [
    "print(\"Top 10 URL values: \", print_top_n_values(30))"
   ]
  },
  {
   "cell_type": "code",
   "execution_count": null,
   "id": "preliminary-invite",
   "metadata": {},
   "outputs": [],
   "source": []
  },
  {
   "cell_type": "code",
   "execution_count": null,
   "id": "consecutive-confusion",
   "metadata": {},
   "outputs": [],
   "source": []
  }
 ],
 "metadata": {
  "kernelspec": {
   "display_name": "Poldebate",
   "language": "python",
   "name": "poldebate"
  },
  "language_info": {
   "codemirror_mode": {
    "name": "ipython",
    "version": 3
   },
   "file_extension": ".py",
   "mimetype": "text/x-python",
   "name": "python",
   "nbconvert_exporter": "python",
   "pygments_lexer": "ipython3",
   "version": "3.7.10"
  }
 },
 "nbformat": 4,
 "nbformat_minor": 5
}
